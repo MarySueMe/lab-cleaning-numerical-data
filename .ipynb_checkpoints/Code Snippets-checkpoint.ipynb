{
 "cells": [
  {
   "cell_type": "code",
   "execution_count": 1,
   "id": "f66bee9e",
   "metadata": {},
   "outputs": [],
   "source": [
    "import pandas as pd\n",
    "  \n",
    "# dictionary with list object in values\n",
    "details = {\n",
    "    'Name' : ['Ankit', 'Aishwarya', 'Shaurya','Shivangi'],\n",
    "    'Age' : [23, 21, 22,21],\n",
    "    'University' : ['BHU', 'JNU', 'DU', 'BHU'],\n",
    "}\n",
    "  \n",
    "# creating a Dataframe object\n",
    "df = pd.DataFrame(details,columns = ['Name','Age','University'],\n",
    "                  index = ['a', 'b', 'c', 'd'])"
   ]
  },
  {
   "cell_type": "code",
   "execution_count": 2,
   "id": "e6f8cc94",
   "metadata": {},
   "outputs": [
    {
     "data": {
      "text/html": [
       "<div>\n",
       "<style scoped>\n",
       "    .dataframe tbody tr th:only-of-type {\n",
       "        vertical-align: middle;\n",
       "    }\n",
       "\n",
       "    .dataframe tbody tr th {\n",
       "        vertical-align: top;\n",
       "    }\n",
       "\n",
       "    .dataframe thead th {\n",
       "        text-align: right;\n",
       "    }\n",
       "</style>\n",
       "<table border=\"1\" class=\"dataframe\">\n",
       "  <thead>\n",
       "    <tr style=\"text-align: right;\">\n",
       "      <th></th>\n",
       "      <th>Name</th>\n",
       "      <th>Age</th>\n",
       "      <th>University</th>\n",
       "    </tr>\n",
       "  </thead>\n",
       "  <tbody>\n",
       "    <tr>\n",
       "      <th>a</th>\n",
       "      <td>Ankit</td>\n",
       "      <td>23</td>\n",
       "      <td>BHU</td>\n",
       "    </tr>\n",
       "    <tr>\n",
       "      <th>b</th>\n",
       "      <td>Aishwarya</td>\n",
       "      <td>21</td>\n",
       "      <td>JNU</td>\n",
       "    </tr>\n",
       "    <tr>\n",
       "      <th>c</th>\n",
       "      <td>Shaurya</td>\n",
       "      <td>22</td>\n",
       "      <td>DU</td>\n",
       "    </tr>\n",
       "    <tr>\n",
       "      <th>d</th>\n",
       "      <td>Shivangi</td>\n",
       "      <td>21</td>\n",
       "      <td>BHU</td>\n",
       "    </tr>\n",
       "  </tbody>\n",
       "</table>\n",
       "</div>"
      ],
      "text/plain": [
       "        Name  Age University\n",
       "a      Ankit   23        BHU\n",
       "b  Aishwarya   21        JNU\n",
       "c    Shaurya   22         DU\n",
       "d   Shivangi   21        BHU"
      ]
     },
     "execution_count": 2,
     "metadata": {},
     "output_type": "execute_result"
    }
   ],
   "source": [
    "df\n"
   ]
  },
  {
   "cell_type": "code",
   "execution_count": 3,
   "id": "1d65fa7d",
   "metadata": {},
   "outputs": [
    {
     "data": {
      "text/html": [
       "<div>\n",
       "<style scoped>\n",
       "    .dataframe tbody tr th:only-of-type {\n",
       "        vertical-align: middle;\n",
       "    }\n",
       "\n",
       "    .dataframe tbody tr th {\n",
       "        vertical-align: top;\n",
       "    }\n",
       "\n",
       "    .dataframe thead th {\n",
       "        text-align: right;\n",
       "    }\n",
       "</style>\n",
       "<table border=\"1\" class=\"dataframe\">\n",
       "  <thead>\n",
       "    <tr style=\"text-align: right;\">\n",
       "      <th></th>\n",
       "      <th>Name</th>\n",
       "      <th>Age</th>\n",
       "      <th>University</th>\n",
       "    </tr>\n",
       "  </thead>\n",
       "  <tbody>\n",
       "    <tr>\n",
       "      <th>a</th>\n",
       "      <td>Ankit</td>\n",
       "      <td>23</td>\n",
       "      <td>BHU</td>\n",
       "    </tr>\n",
       "    <tr>\n",
       "      <th>b</th>\n",
       "      <td>Aishwarya</td>\n",
       "      <td>21</td>\n",
       "      <td>JNU</td>\n",
       "    </tr>\n",
       "    <tr>\n",
       "      <th>d</th>\n",
       "      <td>Shivangi</td>\n",
       "      <td>21</td>\n",
       "      <td>BHU</td>\n",
       "    </tr>\n",
       "  </tbody>\n",
       "</table>\n",
       "</div>"
      ],
      "text/plain": [
       "        Name  Age University\n",
       "a      Ankit   23        BHU\n",
       "b  Aishwarya   21        JNU\n",
       "d   Shivangi   21        BHU"
      ]
     },
     "execution_count": 3,
     "metadata": {},
     "output_type": "execute_result"
    }
   ],
   "source": [
    "# return a new dataframe by dropping a\n",
    "# row 'c' from dataframe\n",
    "update_df = df.drop('c')\n",
    " \n",
    "update_df"
   ]
  },
  {
   "cell_type": "code",
   "execution_count": 4,
   "id": "9b9062af",
   "metadata": {},
   "outputs": [
    {
     "data": {
      "text/html": [
       "<div>\n",
       "<style scoped>\n",
       "    .dataframe tbody tr th:only-of-type {\n",
       "        vertical-align: middle;\n",
       "    }\n",
       "\n",
       "    .dataframe tbody tr th {\n",
       "        vertical-align: top;\n",
       "    }\n",
       "\n",
       "    .dataframe thead th {\n",
       "        text-align: right;\n",
       "    }\n",
       "</style>\n",
       "<table border=\"1\" class=\"dataframe\">\n",
       "  <thead>\n",
       "    <tr style=\"text-align: right;\">\n",
       "      <th></th>\n",
       "      <th>Name</th>\n",
       "      <th>Age</th>\n",
       "      <th>University</th>\n",
       "    </tr>\n",
       "  </thead>\n",
       "  <tbody>\n",
       "    <tr>\n",
       "      <th>a</th>\n",
       "      <td>Ankit</td>\n",
       "      <td>23</td>\n",
       "      <td>BHU</td>\n",
       "    </tr>\n",
       "    <tr>\n",
       "      <th>d</th>\n",
       "      <td>Shivangi</td>\n",
       "      <td>21</td>\n",
       "      <td>BHU</td>\n",
       "    </tr>\n",
       "  </tbody>\n",
       "</table>\n",
       "</div>"
      ],
      "text/plain": [
       "       Name  Age University\n",
       "a     Ankit   23        BHU\n",
       "d  Shivangi   21        BHU"
      ]
     },
     "execution_count": 4,
     "metadata": {},
     "output_type": "execute_result"
    }
   ],
   "source": [
    "update_df = df.drop(['b', 'c']) #drop rows\n",
    " \n",
    "update_df"
   ]
  },
  {
   "cell_type": "code",
   "execution_count": 5,
   "id": "5dfb2aad",
   "metadata": {},
   "outputs": [
    {
     "data": {
      "text/html": [
       "<div>\n",
       "<style scoped>\n",
       "    .dataframe tbody tr th:only-of-type {\n",
       "        vertical-align: middle;\n",
       "    }\n",
       "\n",
       "    .dataframe tbody tr th {\n",
       "        vertical-align: top;\n",
       "    }\n",
       "\n",
       "    .dataframe thead th {\n",
       "        text-align: right;\n",
       "    }\n",
       "</style>\n",
       "<table border=\"1\" class=\"dataframe\">\n",
       "  <thead>\n",
       "    <tr style=\"text-align: right;\">\n",
       "      <th></th>\n",
       "      <th>Name</th>\n",
       "      <th>Age</th>\n",
       "      <th>University</th>\n",
       "    </tr>\n",
       "  </thead>\n",
       "  <tbody>\n",
       "    <tr>\n",
       "      <th>a</th>\n",
       "      <td>Ankit</td>\n",
       "      <td>23</td>\n",
       "      <td>BHU</td>\n",
       "    </tr>\n",
       "    <tr>\n",
       "      <th>b</th>\n",
       "      <td>Aishwarya</td>\n",
       "      <td>21</td>\n",
       "      <td>JNU</td>\n",
       "    </tr>\n",
       "  </tbody>\n",
       "</table>\n",
       "</div>"
      ],
      "text/plain": [
       "        Name  Age University\n",
       "a      Ankit   23        BHU\n",
       "b  Aishwarya   21        JNU"
      ]
     },
     "execution_count": 5,
     "metadata": {},
     "output_type": "execute_result"
    }
   ],
   "source": [
    "df.drop(['c', 'd'], inplace = True )\n",
    " \n",
    "df"
   ]
  },
  {
   "cell_type": "code",
   "execution_count": 14,
   "id": "1370d9b0",
   "metadata": {},
   "outputs": [
    {
     "name": "stdout",
     "output_type": "stream",
     "text": [
      "        Name University\n",
      "a      Ankit        BHU\n",
      "b  Aishwarya        JNU\n"
     ]
    }
   ],
   "source": [
    "\n",
    "df.drop('Age', axis = 1, inplace = True) #drop columns\n",
    "print(df)"
   ]
  },
  {
   "cell_type": "code",
   "execution_count": null,
   "id": "9e7260e1",
   "metadata": {},
   "outputs": [],
   "source": [
    "# np.where\n",
    "df [\"GENDER\"] = np.where(df[\"GENDER\"].isin(['F', 'female', 'Femal']), 'F','M') \n"
   ]
  },
  {
   "cell_type": "markdown",
   "id": "7b04f7f8",
   "metadata": {},
   "source": [
    "The code snippet converts the values in the 'GENDER' column to either 'F' or 'M'. If the original value in the 'GENDER' column is 'F', 'female', or 'Femal', it is replaced with 'F'. Otherwise, it is replaced with 'M'. This is a common technique for standardizing gender values in datasets where multiple representations of the same gender category exist."
   ]
  },
  {
   "cell_type": "code",
   "execution_count": null,
   "id": "4103bcf1",
   "metadata": {},
   "outputs": [],
   "source": [
    "# start of our analysis and modelling\n",
    "data.shape\n",
    "data.dtypes\n",
    "data['duration'].value_counts(dropna=False) "
   ]
  },
  {
   "cell_type": "code",
   "execution_count": null,
   "id": "61382a59",
   "metadata": {},
   "outputs": [],
   "source": [
    "# both '' and ' ' seem to indicate unknown values, I will group them together\n",
    "def cleankSymbol(x):\n",
    "    x = x.lower()\n",
    "    if x in ['', ' ']:\n",
    "        return 'unknown'\n",
    "    else:\n",
    "        return x\n",
    "\n",
    "data['k_symbol'] = list(map(cleankSymbol, data['k_symbol']))  #uses map"
   ]
  },
  {
   "cell_type": "code",
   "execution_count": null,
   "id": "8c92e684",
   "metadata": {},
   "outputs": [],
   "source": [
    "-- or use .apply()\n",
    "\n",
    "def cleanOperation(x):\n",
    "    x = x.lower()\n",
    "    if 'vyber' in x:\n",
    "        return \"vyber\"\n",
    "    elif 'prevod' in x:\n",
    "        return \"prevod\"\n",
    "    elif 'vklad' in x:\n",
    "        return 'vklad'\n",
    "    else:\n",
    "        return 'unknown'\n",
    "\n",
    "#data['operation'] = list(map(cleanOperation, data['operation']))\n",
    "data['operation'] = data['operation'].apply(cleanOperation)"
   ]
  },
  {
   "cell_type": "code",
   "execution_count": null,
   "id": "473a49d9",
   "metadata": {},
   "outputs": [],
   "source": [
    "import matplotlib.pyplot as plt\n",
    "import seaborn as sns\n",
    "%matplotlib inline"
   ]
  },
  {
   "cell_type": "code",
   "execution_count": null,
   "id": "65145f8b",
   "metadata": {},
   "outputs": [],
   "source": [
    "# Checking for multicollinearity\n",
    "\n",
    "corr_matrix=data.corr()  # default\n",
    "fig, ax = plt.subplots(figsize=(10, 8))\n",
    "ax = sns.heatmap(corr_matrix, annot=True)\n",
    "plt.show()"
   ]
  },
  {
   "cell_type": "code",
   "execution_count": null,
   "id": "84341b13",
   "metadata": {},
   "outputs": [],
   "source": [
    "# Train scalers with training data, do , split,train,test, rather than a sneak peak at the whole data and how the results perform\n",
    "Scaling and encoding still required\n",
    "minMax - to be read on a column basis, ie. 69% of total payments\n",
    "Still need to transform categoricals\n",
    "# this is a change from week 1\n",
    "Categorical classification method uses logistical regression"
   ]
  },
  {
   "cell_type": "code",
   "execution_count": null,
   "id": "85bd5df1",
   "metadata": {},
   "outputs": [],
   "source": [
    "# numerical data (columns)\n",
    "# train model on trained scaled data\n",
    "# then do predictions \n",
    "always need to scale in ML, use minmaxscaler - numerical data\n",
    "# look up information bleeding"
   ]
  },
  {
   "cell_type": "code",
   "execution_count": null,
   "id": "1fa6eb20",
   "metadata": {},
   "outputs": [],
   "source": [
    "#encode categoricals with onehotencoder, drop one colum\n",
    "encoder - trains training data\n",
    "encoded . trains test data (smaller set of data, usually)"
   ]
  },
  {
   "cell_type": "code",
   "execution_count": null,
   "id": "0edcf94e",
   "metadata": {},
   "outputs": [],
   "source": [
    "Discussion on test data\n",
    "dont fit X_test num again\n",
    "Look, at scaled test data, for any min (below 0) and max (above 1)- Can exclude from the test set. \n",
    "(X_test_cat)\n",
    "Use X_test_treated for predictions\n",
    "predictions = classification.predict(X_test_treated)\n",
    "predictions ## produces an array\n",
    "classification.score(X_test_treated, y_test) ## guess correctly for 88% of time\n",
    "model favours the majority\n",
    "confusion matrix(actuals, predictions)"
   ]
  },
  {
   "cell_type": "code",
   "execution_count": null,
   "id": "aed093ee",
   "metadata": {},
   "outputs": [],
   "source": [
    "import pandas as pd\n",
    "from sklearn.preprocessing import OneHotEncoder\n",
    "\n",
    "# Sample DataFrame with 'Name', 'Type 1', and 'Type 2' columns\n",
    "data = {'Name': ['Pikachu', 'Charmander', 'Squirtle'],\n",
    "        'Type 1': ['Electric', 'Fire', 'Water'],\n",
    "        'Type 2': ['None', 'None', 'None']}\n",
    "pokemon = pd.DataFrame(data)\n",
    "\n",
    "# Create an instance of OneHotEncoder\n",
    "encoder = OneHotEncoder(sparse=False)\n",
    "\n",
    "# Fit and transform the encoder on 'Type 1' and 'Type 2' columns\n",
    "encoded_columns = encoder.fit_transform(pokemon[['Type 1', 'Type 2']])\n",
    "\n",
    "# Create column names for the encoded features\n",
    "encoded_feature_names = encoder.get_feature_names(['Type1', 'Type2'])\n",
    "\n",
    "# Create a DataFrame with the encoded features\n",
    "encoded_df = pd.DataFrame(encoded_columns, columns=encoded_feature_names)\n",
    "\n",
    "# Concatenate the encoded DataFrame with the original DataFrame\n",
    "pokemon_encoded = pd.concat([pokemon, encoded_df], axis=1)\n",
    "\n",
    "print(pokemon_encoded)\n"
   ]
  },
  {
   "cell_type": "markdown",
   "id": "baa9f2a6",
   "metadata": {},
   "source": [
    "Cleaning up prefixed data or characters in the Name column"
   ]
  },
  {
   "cell_type": "code",
   "execution_count": null,
   "id": "13ebe8bb",
   "metadata": {},
   "outputs": [],
   "source": [
    "def remove_mega_prefix(name):\n",
    "    if \"Mega\" in name:\n",
    "        return \"Mega\" + name.split(\"Mega\" ,1)[1]\n",
    "    else:\n",
    "        return name\n",
    "\n",
    "\n",
    "pokemon[\"Name\"] = pokemon[\"Name\"].apply(remove_mega_prefix)\n",
    "\n",
    "pokemon.head(10)"
   ]
  },
  {
   "cell_type": "markdown",
   "id": "5965acf5",
   "metadata": {},
   "source": [
    "IQR - removing outliers and variables"
   ]
  },
  {
   "cell_type": "code",
   "execution_count": null,
   "id": "1d47dab7",
   "metadata": {},
   "outputs": [],
   "source": [
    "p.percentile(continuous_df['monthly_premium_auto'],75) - np.percentile(numerical_df['monthly_premium_auto'],25)"
   ]
  },
  {
   "cell_type": "code",
   "execution_count": null,
   "id": "aa6d1676",
   "metadata": {},
   "outputs": [],
   "source": []
  }
 ],
 "metadata": {
  "kernelspec": {
   "display_name": "Python 3 (ipykernel)",
   "language": "python",
   "name": "python3"
  },
  "language_info": {
   "codemirror_mode": {
    "name": "ipython",
    "version": 3
   },
   "file_extension": ".py",
   "mimetype": "text/x-python",
   "name": "python",
   "nbconvert_exporter": "python",
   "pygments_lexer": "ipython3",
   "version": "3.11.3"
  }
 },
 "nbformat": 4,
 "nbformat_minor": 5
}
